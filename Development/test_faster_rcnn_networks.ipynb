{
 "cells": [
  {
   "cell_type": "markdown",
   "metadata": {},
   "source": [
    "# Debugging Faster R-CNN Networks"
   ]
  },
  {
   "cell_type": "markdown",
   "metadata": {},
   "source": [
    "## Imports"
   ]
  },
  {
   "cell_type": "code",
   "execution_count": 1,
   "metadata": {
    "collapsed": true
   },
   "outputs": [],
   "source": [
    "import sys\n",
    "sys.path.append('../')\n",
    "\n",
    "import numpy as np\n",
    "np.set_printoptions(precision=3)\n",
    "import tensorflow as tf"
   ]
  },
  {
   "cell_type": "markdown",
   "metadata": {},
   "source": [
    "## Check Cythonized modules working"
   ]
  },
  {
   "cell_type": "markdown",
   "metadata": {},
   "source": [
    "#### bbox_overlaps"
   ]
  },
  {
   "cell_type": "code",
   "execution_count": 2,
   "metadata": {
    "collapsed": true
   },
   "outputs": [],
   "source": [
    "from Lib.bbox_overlaps import bbox_overlaps"
   ]
  },
  {
   "cell_type": "code",
   "execution_count": 3,
   "metadata": {
    "collapsed": true
   },
   "outputs": [],
   "source": [
    "boxes = np.array([[1,3,2,4],\n",
    "                  [2,5,1,8],\n",
    "                  [3,4,9,9],\n",
    "                  [1,9,7,11]],dtype=np.float)"
   ]
  },
  {
   "cell_type": "code",
   "execution_count": 4,
   "metadata": {
    "collapsed": false
   },
   "outputs": [],
   "source": [
    "query_boxes = np.array([[1,3,2,4],\n",
    "                  [5,3,7,4],\n",
    "                  [1,8,10,12],\n",
    "                  [0,2,3,5],\n",
    "                  [0,3,2,9],\n",
    "                  [2,1,3,4]],dtype=np.float)"
   ]
  },
  {
   "cell_type": "code",
   "execution_count": 5,
   "metadata": {
    "collapsed": false,
    "scrolled": true
   },
   "outputs": [
    {
     "data": {
      "text/plain": [
       "array([[ 1.   ,  0.   ,  0.   ,  0.25 ,  0.19 ,  0.2  ],\n",
       "       [ 0.   ,  0.   ,  0.   ,  0.   ,  0.   ,  0.   ],\n",
       "       [ 0.   ,  0.067,  0.179,  0.036,  0.   ,  0.02 ],\n",
       "       [ 0.   ,  0.   ,  0.42 ,  0.   ,  0.05 ,  0.   ]])"
      ]
     },
     "execution_count": 5,
     "metadata": {},
     "output_type": "execute_result"
    }
   ],
   "source": [
    "bbox_overlaps(boxes,query_boxes)"
   ]
  },
  {
   "cell_type": "markdown",
   "metadata": {},
   "source": [
    "#### nms"
   ]
  },
  {
   "cell_type": "code",
   "execution_count": 6,
   "metadata": {
    "collapsed": true
   },
   "outputs": [],
   "source": [
    "from Lib.nms_wrapper import nms"
   ]
  },
  {
   "cell_type": "code",
   "execution_count": 7,
   "metadata": {
    "collapsed": false
   },
   "outputs": [],
   "source": [
    "proposals = 10*np.array([[2,1,12,21,0],\n",
    "                     [10,5,14,18,.1],\n",
    "                     [5,3,11,14,.2],\n",
    "                     [1,4,20,20,.3]],dtype=np.float32)\n",
    "copies = np.random.choice(4,256,p=[0.1,0.2,0.3,0.4])\n",
    "proposals = proposals[copies,:]\n",
    "perturbations = np.random.randint(8,size=(256,4))\n",
    "perturbations = np.concatenate((perturbations,np.zeros([256,1])),1)\n",
    "proposals = np.array(proposals + perturbations,dtype=np.float32)"
   ]
  },
  {
   "cell_type": "code",
   "execution_count": 8,
   "metadata": {
    "collapsed": false
   },
   "outputs": [
    {
     "data": {
      "text/plain": [
       "array([[  11.,   46.,  205.,  207.,    3.],\n",
       "       [  50.,   32.,  111.,  142.,    2.],\n",
       "       [ 106.,   52.,  146.,  187.,    1.],\n",
       "       [  23.,   13.,  124.,  215.,    0.]], dtype=float32)"
      ]
     },
     "execution_count": 8,
     "metadata": {},
     "output_type": "execute_result"
    }
   ],
   "source": [
    "keep = nms(proposals,0.7)\n",
    "proposals[keep,:]"
   ]
  },
  {
   "cell_type": "markdown",
   "metadata": {},
   "source": [
    "## Test fast_rcnn"
   ]
  },
  {
   "cell_type": "code",
   "execution_count": 9,
   "metadata": {
    "collapsed": true
   },
   "outputs": [],
   "source": [
    "from Networks.convnet import convnet\n",
    "from Networks.faster_rcnn_networks import rpn, roi_proposal, fast_rcnn"
   ]
  },
  {
   "cell_type": "code",
   "execution_count": 10,
   "metadata": {
    "collapsed": true
   },
   "outputs": [],
   "source": [
    "# Global Dictionary of Flags\n",
    "flags = {\n",
    "    'data_directory': '../Data/MNIST/',\n",
    "    'save_directory': '../Logs/summaries/',\n",
    "    'model_directory': 'resnet101/',\n",
    "    'restore': False,\n",
    "    'restore_file': 'start.ckpt',\n",
    "    'datasets': 'MNIST',\n",
    "    'image_dim': 28,\n",
    "    'hidden_size': 10,\n",
    "    'num_classes': 10,\n",
    "    'batch_size': 1,\n",
    "    'display_step': 200,\n",
    "    'weight_decay': 1e-7,\n",
    "    'lr_decay': 0.999,\n",
    "    'num_epochs': 10,\n",
    "    'lr_iters': [(5e-3, 5000), (5e-3, 7500), (5e-4, 10000), (5e-5, 10000)],\n",
    "    'anchor_scales': [1,2,4]\n",
    "}\n",
    "eval_mode = False"
   ]
  },
  {
   "cell_type": "markdown",
   "metadata": {},
   "source": [
    "#### Set up inputs"
   ]
  },
  {
   "cell_type": "code",
   "execution_count": 11,
   "metadata": {
    "collapsed": false
   },
   "outputs": [],
   "source": [
    "x = tf.placeholder(tf.float32, [1, 128, 128, 3], name='x')\n",
    "gt_boxes = tf.placeholder(tf.int64, [1, 5], name='gt')\n",
    "im_dims = tf.placeholder(tf.int64, [1, 2], name='im_dims')"
   ]
  },
  {
   "cell_type": "markdown",
   "metadata": {},
   "source": [
    "#### Convolutional Feature Extractor"
   ]
  },
  {
   "cell_type": "code",
   "execution_count": 12,
   "metadata": {
    "collapsed": false
   },
   "outputs": [
    {
     "name": "stdout",
     "output_type": "stream",
     "text": [
      "conv_1 output: (1, 64, 64, 64)\n",
      "conv_2 output: (1, 32, 32, 96)\n",
      "conv_3 output: (1, 16, 16, 128)\n",
      "conv_4 output: (1, 8, 8, 172)\n",
      "conv_5 output: (1, 4, 4, 256)\n"
     ]
    }
   ],
   "source": [
    "cnn = convnet(x, [5, 3, 3, 3, 3], [64, 96, 128, 172, 256], strides=[2, 2, 2, 2, 2])\n",
    "featureMaps = cnn.get_output()\n",
    "_feat_stride = cnn.get_feat_stride()"
   ]
  },
  {
   "cell_type": "markdown",
   "metadata": {},
   "source": [
    "#### RPN"
   ]
  },
  {
   "cell_type": "code",
   "execution_count": 13,
   "metadata": {
    "collapsed": false
   },
   "outputs": [
    {
     "name": "stdout",
     "output_type": "stream",
     "text": [
      "conv_1 output: (1, 4, 4, 128)\n",
      "conv_1 output: (1, 4, 4, 18)\n",
      "conv_1 output: (1, 4, 4, 36)\n"
     ]
    }
   ],
   "source": [
    "rpn_net = rpn(featureMaps,gt_boxes,im_dims,_feat_stride,eval_mode,flags)"
   ]
  },
  {
   "cell_type": "code",
   "execution_count": 14,
   "metadata": {
    "collapsed": false
   },
   "outputs": [
    {
     "data": {
      "text/plain": [
       "TensorShape([Dimension(1), Dimension(4), Dimension(4), Dimension(18)])"
      ]
     },
     "execution_count": 14,
     "metadata": {},
     "output_type": "execute_result"
    }
   ],
   "source": [
    "rpn_cls_score = rpn_net.get_rpn_cls_score()\n",
    "rpn_cls_score.get_shape()"
   ]
  },
  {
   "cell_type": "code",
   "execution_count": 15,
   "metadata": {
    "collapsed": false
   },
   "outputs": [
    {
     "data": {
      "text/plain": [
       "TensorShape(None)"
      ]
     },
     "execution_count": 15,
     "metadata": {},
     "output_type": "execute_result"
    }
   ],
   "source": [
    "rpn_labels = rpn_net.get_rpn_labels()\n",
    "rpn_labels.get_shape()"
   ]
  },
  {
   "cell_type": "code",
   "execution_count": 16,
   "metadata": {
    "collapsed": false
   },
   "outputs": [
    {
     "data": {
      "text/plain": [
       "TensorShape([Dimension(1), Dimension(4), Dimension(4), Dimension(36)])"
      ]
     },
     "execution_count": 16,
     "metadata": {},
     "output_type": "execute_result"
    }
   ],
   "source": [
    "rpn_bbox_pred = rpn_net.get_rpn_bbox_pred()\n",
    "rpn_bbox_pred.get_shape()"
   ]
  },
  {
   "cell_type": "code",
   "execution_count": 17,
   "metadata": {
    "collapsed": false
   },
   "outputs": [
    {
     "data": {
      "text/plain": [
       "TensorShape(None)"
      ]
     },
     "execution_count": 17,
     "metadata": {},
     "output_type": "execute_result"
    }
   ],
   "source": [
    "rpn_bbox_targets = rpn_net.get_rpn_bbox_targets()\n",
    "rpn_bbox_targets.get_shape()"
   ]
  },
  {
   "cell_type": "code",
   "execution_count": 18,
   "metadata": {
    "collapsed": false
   },
   "outputs": [
    {
     "data": {
      "text/plain": [
       "TensorShape(None)"
      ]
     },
     "execution_count": 18,
     "metadata": {},
     "output_type": "execute_result"
    }
   ],
   "source": [
    "rpn_bbox_outside_weights = rpn_net.get_rpn_bbox_outside_weights()\n",
    "rpn_bbox_outside_weights.get_shape()"
   ]
  },
  {
   "cell_type": "markdown",
   "metadata": {},
   "source": [
    "#### ROI Proposal"
   ]
  },
  {
   "cell_type": "code",
   "execution_count": 19,
   "metadata": {
    "collapsed": false
   },
   "outputs": [],
   "source": [
    "rpn_cls_score = rpn_net.get_rpn_cls_score()\n",
    "rpn_bbox_pred = rpn_net.get_rpn_bbox_pred()\n",
    "roi_proposal_net = roi_proposal(rpn_net, gt_boxes, im_dims, eval_mode, flags)"
   ]
  },
  {
   "cell_type": "code",
   "execution_count": 20,
   "metadata": {
    "collapsed": false
   },
   "outputs": [
    {
     "data": {
      "text/plain": [
       "TensorShape([Dimension(None), Dimension(5)])"
      ]
     },
     "execution_count": 20,
     "metadata": {},
     "output_type": "execute_result"
    }
   ],
   "source": [
    "roi_proposal_net.get_rois().get_shape()"
   ]
  },
  {
   "cell_type": "code",
   "execution_count": 21,
   "metadata": {
    "collapsed": false
   },
   "outputs": [
    {
     "data": {
      "text/plain": [
       "TensorShape(None)"
      ]
     },
     "execution_count": 21,
     "metadata": {},
     "output_type": "execute_result"
    }
   ],
   "source": [
    "roi_proposal_net.get_labels().get_shape()"
   ]
  },
  {
   "cell_type": "code",
   "execution_count": 22,
   "metadata": {
    "collapsed": false
   },
   "outputs": [
    {
     "data": {
      "text/plain": [
       "TensorShape(None)"
      ]
     },
     "execution_count": 22,
     "metadata": {},
     "output_type": "execute_result"
    }
   ],
   "source": [
    "roi_proposal_net.get_bbox_targets().get_shape()"
   ]
  },
  {
   "cell_type": "markdown",
   "metadata": {},
   "source": [
    "#### Fast RCNN"
   ]
  },
  {
   "cell_type": "code",
   "execution_count": 23,
   "metadata": {
    "collapsed": false
   },
   "outputs": [
    {
     "name": "stdout",
     "output_type": "stream",
     "text": [
      "flat_1 output: (?, 12544)\n",
      "fc_1 output: (?, 1024)\n",
      "fc_1 output: (?, 10)\n",
      "fc_1 output: (?, 40)\n"
     ]
    }
   ],
   "source": [
    "fast_rcnn_net = fast_rcnn(featureMaps, roi_proposal_net, eval_mode)"
   ]
  },
  {
   "cell_type": "code",
   "execution_count": 24,
   "metadata": {
    "collapsed": false
   },
   "outputs": [
    {
     "data": {
      "text/plain": [
       "TensorShape([Dimension(None), Dimension(10)])"
      ]
     },
     "execution_count": 24,
     "metadata": {},
     "output_type": "execute_result"
    }
   ],
   "source": [
    "fast_rcnn_net.get_cls_score().get_shape()"
   ]
  },
  {
   "cell_type": "code",
   "execution_count": 25,
   "metadata": {
    "collapsed": false
   },
   "outputs": [
    {
     "data": {
      "text/plain": [
       "TensorShape([Dimension(None), Dimension(40)])"
      ]
     },
     "execution_count": 25,
     "metadata": {},
     "output_type": "execute_result"
    }
   ],
   "source": [
    "fast_rcnn_net.get_bbox_refinement().get_shape()"
   ]
  },
  {
   "cell_type": "markdown",
   "metadata": {},
   "source": [
    "#### Feed dummy values through net"
   ]
  },
  {
   "cell_type": "code",
   "execution_count": 26,
   "metadata": {
    "collapsed": false
   },
   "outputs": [],
   "source": [
    "# Prevent TensorFlow from completely hogging up all GPUs\n",
    "config = tf.ConfigProto(log_device_placement=False)\n",
    "config.gpu_options.per_process_gpu_memory_fraction=0.2\n",
    "sess = tf.InteractiveSession(config=config)"
   ]
  },
  {
   "cell_type": "code",
   "execution_count": 27,
   "metadata": {
    "collapsed": false
   },
   "outputs": [],
   "source": [
    "x_in = np.random.randint(256,size=[1, 128, 128, 3])\n",
    "gt_in = np.array([1,4,16,20,3]).reshape([1,5])\n",
    "im_dims_in = np.array([128]*1*2).reshape([1,2])"
   ]
  },
  {
   "cell_type": "code",
   "execution_count": 28,
   "metadata": {
    "collapsed": false
   },
   "outputs": [],
   "source": [
    "sess.run(tf.global_variables_initializer())\n",
    "#sess.run(rpn_bbox_targets,feed_dict={x: x_in, gt: gt_in, im_dims: im_dims_in})"
   ]
  },
  {
   "cell_type": "markdown",
   "metadata": {},
   "source": [
    "## Test ROI pooling layer"
   ]
  },
  {
   "cell_type": "code",
   "execution_count": 29,
   "metadata": {
    "collapsed": true
   },
   "outputs": [],
   "source": [
    "import tensorflow as tf\n",
    "from scipy.misc import imread\n",
    "import matplotlib.pyplot as plt\n",
    "from Lib.roi_pool import roi_pool"
   ]
  },
  {
   "cell_type": "code",
   "execution_count": 30,
   "metadata": {
    "collapsed": false
   },
   "outputs": [],
   "source": [
    "# Set up tensorflow graph\n",
    "featMap_tf = tf.placeholder(tf.float32, [None, 128, 128, 1])\n",
    "roi_tf = tf.placeholder(tf.float32, [None, 5])\n",
    "im_dims_tf = tf.placeholder(tf.int32, [None, 2])      \n",
    "\n",
    "pooledFeatures = roi_pool(featMap_tf,roi_tf,im_dims_tf)"
   ]
  },
  {
   "cell_type": "code",
   "execution_count": 31,
   "metadata": {
    "collapsed": false
   },
   "outputs": [
    {
     "data": {
      "image/png": "[encoded data removed]",
      "text/plain": [
       "<matplotlib.figure.Figure at 0x7f71d4087c18>"
      ]
     },
     "metadata": {},
     "output_type": "display_data"
    },
    {
     "name": "stdout",
     "output_type": "stream",
     "text": [
      "[[128 128]]\n"
     ]
    }
   ],
   "source": [
    "imfile = '../Data/data_clutter/Test/Images/img88.png'\n",
    "img = imread(imfile)\n",
    "im_dims = np.array(img.shape)\n",
    "im_dims = im_dims.reshape((-1,2))\n",
    "plt.imshow(img)\n",
    "plt.show()\n",
    "print(im_dims)"
   ]
  },
  {
   "cell_type": "code",
   "execution_count": 32,
   "metadata": {
    "collapsed": false
   },
   "outputs": [
    {
     "data": {
      "text/plain": [
       "array([[   0.,   76.,   65.,  118.,   88.]])"
      ]
     },
     "execution_count": 32,
     "metadata": {},
     "output_type": "execute_result"
    }
   ],
   "source": [
    "gt = np.loadtxt('../Data/data_clutter/Test/Annotations/img88.txt', ndmin=2)\n",
    "gt_box = gt[:,:4]\n",
    "\n",
    "roi = np.concatenate(([[0]],gt_box),axis=1)\n",
    "roi"
   ]
  },
  {
   "cell_type": "code",
   "execution_count": 33,
   "metadata": {
    "collapsed": false
   },
   "outputs": [
    {
     "data": {
      "image/png": "[encoded data removed]",
      "text/plain": [
       "<matplotlib.figure.Figure at 0x7f71940b6278>"
      ]
     },
     "metadata": {},
     "output_type": "display_data"
    },
    {
     "name": "stdout",
     "output_type": "stream",
     "text": [
      "(1, 128, 128, 1)\n"
     ]
    }
   ],
   "source": [
    "# This would be a really dumb output for a CNN, \n",
    "# but for testing purposes, it'll do\n",
    "featureMaps = img[::1,::1]\n",
    "plt.imshow(featureMaps)\n",
    "plt.show()\n",
    "featureMaps = featureMaps.reshape((1,featureMaps.shape[0],featureMaps.shape[1],1))\n",
    "print(featureMaps.shape)"
   ]
  },
  {
   "cell_type": "code",
   "execution_count": 34,
   "metadata": {
    "collapsed": false
   },
   "outputs": [
    {
     "data": {
      "image/png": "[encoded data removed]",
      "text/plain": [
       "<matplotlib.figure.Figure at 0x7f72dc2c0898>"
      ]
     },
     "metadata": {},
     "output_type": "display_data"
    },
    {
     "name": "stdout",
     "output_type": "stream",
     "text": [
      "(7, 7)\n",
      "[[  16.    189.59   19.59   91.95   16.71   16.     16.  ]\n",
      " [  16.     16.02  221.2   170.63   20.69   16.     16.  ]\n",
      " [  16.     16.75  201.85   16.     45.92   31.11   16.  ]\n",
      " [  16.     16.7   197.77   28.6   230.77  231.21   16.12]\n",
      " [  16.     16.05  217.91  255.    214.1   179.82   16.09]\n",
      " [  16.     16.    213.83  255.    232.17   16.32   16.  ]\n",
      " [  16.     16.    229.    162.    184.95   16.     16.  ]]\n"
     ]
    }
   ],
   "source": [
    "# Run the graph and pray\n",
    "out = sess.run(pooledFeatures, feed_dict={featMap_tf: featureMaps, roi_tf: roi, im_dims_tf: im_dims})\n",
    "im_out = np.squeeze(out)\n",
    "plt.imshow(im_out)\n",
    "plt.show()\n",
    "print(im_out.shape)\n",
    "np.set_printoptions(precision=2)\n",
    "print(im_out)"
   ]
  },
  {
   "cell_type": "markdown",
   "metadata": {},
   "source": [
    "## Test losses/reshaping"
   ]
  },
  {
   "cell_type": "code",
   "execution_count": 62,
   "metadata": {
    "collapsed": false
   },
   "outputs": [
    {
     "name": "stdout",
     "output_type": "stream",
     "text": [
      "41000\n",
      "41001\n",
      "110311\n",
      "110310\n",
      "10816\n",
      "10817\n"
     ]
    }
   ],
   "source": [
    "# Dummy RPN Classification Scores\n",
    "N = 1   # Minibatch size\n",
    "W = 16  # Width of feature maps\n",
    "H = 16  # Height of feature maps\n",
    "K = 9*2 # Number of scores\n",
    "\n",
    "rpn_cls_score = np.array([[[[k + 100*h + 10000*w + 1000000*n for k in range(K)] for h in range(H)] for w in range(W)] for n in range(N)])\n",
    "print(rpn_cls_score[0,4,10,0])\n",
    "print(rpn_cls_score[0,4,10,1])\n",
    "print(rpn_cls_score[0,11,3,11])\n",
    "print(rpn_cls_score[0,11,3,10])\n",
    "print(rpn_cls_score[0,1,8,16])\n",
    "print(rpn_cls_score[0,1,8,17])"
   ]
  },
  {
   "cell_type": "code",
   "execution_count": 63,
   "metadata": {
    "collapsed": false
   },
   "outputs": [
    {
     "name": "stdout",
     "output_type": "stream",
     "text": [
      "Shape: (1, 16, 16, 18)\n",
      "Reshaped: (1, 144, 16, 2)\n",
      "41006\n",
      "41015\n",
      "90702\n",
      "90711\n",
      "130308\n",
      "130317\n"
     ]
    }
   ],
   "source": [
    "# Reshape for softmax\n",
    "shape = rpn_cls_score.shape\n",
    "print(\"Shape: {0}\".format(shape))\n",
    "\n",
    "rpn_cls_score = np.transpose(rpn_cls_score,[0,3,1,2])\n",
    "rpn_cls_score = np.reshape(rpn_cls_score,[shape[0],2,shape[3]//2*shape[1],shape[2]])\n",
    "rpn_cls_score = np.transpose(rpn_cls_score,[0,2,3,1])\n",
    "\n",
    "print(\"Reshaped: {0}\".format(rpn_cls_score.shape))\n",
    "print(rpn_cls_score[0,100,10,0])\n",
    "print(rpn_cls_score[0,100,10,1])\n",
    "print(rpn_cls_score[0,41,7,0])\n",
    "print(rpn_cls_score[0,41,7,1])\n",
    "print(rpn_cls_score[0,141,3,0])\n",
    "print(rpn_cls_score[0,141,3,1])"
   ]
  },
  {
   "cell_type": "code",
   "execution_count": 66,
   "metadata": {
    "collapsed": false
   },
   "outputs": [
    {
     "name": "stdout",
     "output_type": "stream",
     "text": [
      "Shape: (2304, 2)\n",
      "[500 509]\n",
      "[301 310]\n",
      "[111007 111016]\n"
     ]
    }
   ],
   "source": [
    "# Reshape for loss\n",
    "rpn_cls_score = np.reshape(rpn_cls_score,[-1,2])\n",
    "print(\"Shape: {0}\".format(rpn_cls_score.shape))\n",
    "\n",
    "print(rpn_cls_score[5,:])\n",
    "print(rpn_cls_score[259,:])\n",
    "print(rpn_cls_score[1978,:])"
   ]
  }
 ],
 "metadata": {
  "anaconda-cloud": {},
  "kernelspec": {
   "display_name": "Python [conda env:tensorflow]",
   "language": "python",
   "name": "conda-env-tensorflow-py"
  },
  "language_info": {
   "codemirror_mode": {
    "name": "ipython",
    "version": 3
   },
   "file_extension": ".py",
   "mimetype": "text/x-python",
   "name": "python",
   "nbconvert_exporter": "python",
   "pygments_lexer": "ipython3",
   "version": "3.5.2"
  }
 },
 "nbformat": 4,
 "nbformat_minor": 1
}
