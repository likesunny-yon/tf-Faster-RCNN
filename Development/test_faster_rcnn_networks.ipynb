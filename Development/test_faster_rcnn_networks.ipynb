{
 "cells": [
  {
   "cell_type": "markdown",
   "metadata": {},
   "source": [
    "# Debugging Faster R-CNN Networks"
   ]
  },
  {
   "cell_type": "markdown",
   "metadata": {},
   "source": [
    "### Imports"
   ]
  },
  {
   "cell_type": "code",
   "execution_count": 1,
   "metadata": {
    "collapsed": true
   },
   "outputs": [],
   "source": [
    "import sys\n",
    "sys.path.append('../')\n",
    "\n",
    "import numpy as np\n",
    "import tensorflow as tf"
   ]
  },
  {
   "cell_type": "markdown",
   "metadata": {},
   "source": [
    "### Check Cythonized modules working"
   ]
  },
  {
   "cell_type": "markdown",
   "metadata": {},
   "source": [
    "#### bbox_overlaps"
   ]
  },
  {
   "cell_type": "code",
   "execution_count": 2,
   "metadata": {
    "collapsed": true
   },
   "outputs": [],
   "source": [
    "from Lib.bbox_overlaps import bbox_overlaps"
   ]
  },
  {
   "cell_type": "code",
   "execution_count": 3,
   "metadata": {
    "collapsed": true
   },
   "outputs": [],
   "source": [
    "boxes = np.array([[1,3,2,4],\n",
    "                  [2,5,1,8],\n",
    "                  [3,4,9,9],\n",
    "                  [1,9,7,11]],dtype=np.float)"
   ]
  },
  {
   "cell_type": "code",
   "execution_count": 4,
   "metadata": {
    "collapsed": false
   },
   "outputs": [],
   "source": [
    "query_boxes = np.array([[1,3,2,4],\n",
    "                  [5,3,7,4],\n",
    "                  [1,8,10,12],\n",
    "                  [0,2,3,5],\n",
    "                  [0,3,2,9],\n",
    "                  [2,1,3,4]],dtype=np.float)"
   ]
  },
  {
   "cell_type": "code",
   "execution_count": 5,
   "metadata": {
    "collapsed": false,
    "scrolled": true
   },
   "outputs": [
    {
     "data": {
      "text/plain": [
       "array([[ 1.        ,  0.        ,  0.        ,  0.25      ,  0.19047619,\n",
       "         0.2       ],\n",
       "       [ 0.        ,  0.        ,  0.        ,  0.        ,  0.        ,\n",
       "         0.        ],\n",
       "       [ 0.        ,  0.06666667,  0.17948718,  0.03571429,  0.        ,\n",
       "         0.02040816],\n",
       "       [ 0.        ,  0.        ,  0.42      ,  0.        ,  0.05      ,\n",
       "         0.        ]])"
      ]
     },
     "execution_count": 5,
     "metadata": {},
     "output_type": "execute_result"
    }
   ],
   "source": [
    "bbox_overlaps(boxes,query_boxes)"
   ]
  },
  {
   "cell_type": "markdown",
   "metadata": {},
   "source": [
    "#### nms"
   ]
  },
  {
   "cell_type": "code",
   "execution_count": 6,
   "metadata": {
    "collapsed": true
   },
   "outputs": [],
   "source": [
    "from Lib.nms_wrapper import nms"
   ]
  },
  {
   "cell_type": "code",
   "execution_count": 7,
   "metadata": {
    "collapsed": false
   },
   "outputs": [],
   "source": [
    "proposals = 10*np.array([[2,1,12,21,0],\n",
    "                     [10,5,14,18,.1],\n",
    "                     [5,3,11,14,.2],\n",
    "                     [1,4,20,20,.3]],dtype=np.float32)\n",
    "copies = np.random.choice(4,256,p=[0.1,0.2,0.3,0.4])\n",
    "proposals = proposals[copies,:]\n",
    "perturbations = np.random.randint(8,size=(256,4))\n",
    "perturbations = np.concatenate((perturbations,np.zeros([256,1])),1)\n",
    "proposals = np.array(proposals + perturbations,dtype=np.float32)"
   ]
  },
  {
   "cell_type": "code",
   "execution_count": 8,
   "metadata": {
    "collapsed": false
   },
   "outputs": [
    {
     "data": {
      "text/plain": [
       "array([[  13.,   44.,  205.,  205.,    3.],\n",
       "       [  50.,   37.,  112.,  144.,    2.],\n",
       "       [ 102.,   55.,  147.,  181.,    1.],\n",
       "       [  24.,   10.,  122.,  216.,    0.]], dtype=float32)"
      ]
     },
     "execution_count": 8,
     "metadata": {},
     "output_type": "execute_result"
    }
   ],
   "source": [
    "keep = nms(proposals,0.7)\n",
    "proposals[keep,:]"
   ]
  },
  {
   "cell_type": "markdown",
   "metadata": {},
   "source": [
    "### Test fast_rcnn"
   ]
  },
  {
   "cell_type": "code",
   "execution_count": 9,
   "metadata": {
    "collapsed": true
   },
   "outputs": [],
   "source": [
    "from Networks.convnet import convnet\n",
    "from Networks.faster_rcnn_networks import rpn, roi_proposal, fast_rcnn"
   ]
  },
  {
   "cell_type": "code",
   "execution_count": 10,
   "metadata": {
    "collapsed": true
   },
   "outputs": [],
   "source": [
    "# Global Dictionary of Flags\n",
    "flags = {\n",
    "    'data_directory': '../Data/MNIST/',\n",
    "    'save_directory': '../Logs/summaries/',\n",
    "    'model_directory': 'resnet101/',\n",
    "    'restore': False,\n",
    "    'restore_file': 'start.ckpt',\n",
    "    'datasets': 'MNIST',\n",
    "    'image_dim': 28,\n",
    "    'hidden_size': 10,\n",
    "    'num_classes': 10,\n",
    "    'batch_size': 1,\n",
    "    'display_step': 200,\n",
    "    'weight_decay': 1e-7,\n",
    "    'lr_decay': 0.999,\n",
    "    'num_epochs': 10,\n",
    "    'lr_iters': [(5e-3, 5000), (5e-3, 7500), (5e-4, 10000), (5e-5, 10000)],\n",
    "    'anchor_scales': [8,16,32]\n",
    "}"
   ]
  },
  {
   "cell_type": "markdown",
   "metadata": {},
   "source": [
    "#### Set up inputs"
   ]
  },
  {
   "cell_type": "code",
   "execution_count": 11,
   "metadata": {
    "collapsed": false
   },
   "outputs": [],
   "source": [
    "x = tf.placeholder(tf.float32, [None, 128, 128, 3], name='x')\n",
    "gt = tf.placeholder(tf.int64, [None, 5], name='gt')\n",
    "im_dims = tf.placeholder(tf.int64, [None, 2], name='im_dims')"
   ]
  },
  {
   "cell_type": "markdown",
   "metadata": {},
   "source": [
    "#### Convolutional Feature Extractor"
   ]
  },
  {
   "cell_type": "code",
   "execution_count": 12,
   "metadata": {
    "collapsed": false
   },
   "outputs": [
    {
     "name": "stdout",
     "output_type": "stream",
     "text": [
      "conv_1 output: (?, 64, 64, 64)\n",
      "conv_2 output: (?, 32, 32, 96)\n",
      "conv_3 output: (?, 16, 16, 128)\n",
      "conv_4 output: (?, 8, 8, 172)\n",
      "conv_5 output: (?, 4, 4, 256)\n"
     ]
    }
   ],
   "source": [
    "cnn = convnet(x, [5, 3, 3, 3, 3], [64, 96, 128, 172, 256, 512], strides=[2, 2, 2, 2, 2, 2])\n",
    "featureMaps = cnn.get_output()\n",
    "_feat_stride = cnn.get_feat_stride()"
   ]
  },
  {
   "cell_type": "markdown",
   "metadata": {},
   "source": [
    "#### RPN"
   ]
  },
  {
   "cell_type": "code",
   "execution_count": 13,
   "metadata": {
    "collapsed": false
   },
   "outputs": [
    {
     "name": "stdout",
     "output_type": "stream",
     "text": [
      "conv_1 output: (?, 4, 4, 512)\n",
      "conv_1 output: (?, 4, 4, 18)\n",
      "conv_1 output: (?, 4, 4, 36)\n"
     ]
    }
   ],
   "source": [
    "rpn_net = rpn(featureMaps,gt,im_dims,_feat_stride,flags)"
   ]
  },
  {
   "cell_type": "code",
   "execution_count": 14,
   "metadata": {
    "collapsed": false
   },
   "outputs": [
    {
     "data": {
      "text/plain": [
       "TensorShape([Dimension(None), Dimension(4), Dimension(4), Dimension(18)])"
      ]
     },
     "execution_count": 14,
     "metadata": {},
     "output_type": "execute_result"
    }
   ],
   "source": [
    "rpn_cls_score = rpn_net.get_rpn_cls_score()\n",
    "rpn_cls_score.get_shape()"
   ]
  },
  {
   "cell_type": "code",
   "execution_count": 15,
   "metadata": {
    "collapsed": false
   },
   "outputs": [
    {
     "data": {
      "text/plain": [
       "TensorShape(None)"
      ]
     },
     "execution_count": 15,
     "metadata": {},
     "output_type": "execute_result"
    }
   ],
   "source": [
    "rpn_labels = rpn_net.get_rpn_labels()\n",
    "rpn_labels.get_shape()"
   ]
  },
  {
   "cell_type": "code",
   "execution_count": 16,
   "metadata": {
    "collapsed": false
   },
   "outputs": [
    {
     "data": {
      "text/plain": [
       "TensorShape([Dimension(None), Dimension(4), Dimension(4), Dimension(36)])"
      ]
     },
     "execution_count": 16,
     "metadata": {},
     "output_type": "execute_result"
    }
   ],
   "source": [
    "rpn_bbox_pred = rpn_net.get_rpn_bbox_pred()\n",
    "rpn_bbox_pred.get_shape()"
   ]
  },
  {
   "cell_type": "code",
   "execution_count": 17,
   "metadata": {
    "collapsed": false
   },
   "outputs": [
    {
     "data": {
      "text/plain": [
       "TensorShape(None)"
      ]
     },
     "execution_count": 17,
     "metadata": {},
     "output_type": "execute_result"
    }
   ],
   "source": [
    "rpn_bbox_targets = rpn_net.get_rpn_bbox_targets()\n",
    "rpn_bbox_targets.get_shape()"
   ]
  },
  {
   "cell_type": "markdown",
   "metadata": {},
   "source": [
    "#### ROI Proposal"
   ]
  },
  {
   "cell_type": "code",
   "execution_count": 18,
   "metadata": {
    "collapsed": true
   },
   "outputs": [],
   "source": [
    "rpn_cls_score = rpn_net.get_rpn_cls_score()\n",
    "rpn_bbox_pred = rpn_net.get_rpn_bbox_pred()\n",
    "roi_proposal_net = roi_proposal(rpn_cls_score, rpn_bbox_pred, gt, im_dims, flags)"
   ]
  },
  {
   "cell_type": "markdown",
   "metadata": {},
   "source": [
    "#### Fast RCNN"
   ]
  },
  {
   "cell_type": "code",
   "execution_count": null,
   "metadata": {
    "collapsed": true
   },
   "outputs": [],
   "source": [
    "fast_rcnn_net = fast_rcnn(featureMaps, roi_proposal_net)"
   ]
  },
  {
   "cell_type": "markdown",
   "metadata": {},
   "source": [
    "#### Feed dummy values through net"
   ]
  },
  {
   "cell_type": "code",
   "execution_count": 19,
   "metadata": {
    "collapsed": false
   },
   "outputs": [],
   "source": [
    "config = tf.ConfigProto(log_device_placement=False)\n",
    "config.gpu_options.per_process_gpu_memory_fraction=0.2\n",
    "sess = tf.InteractiveSession(config=config)"
   ]
  }
 ],
 "metadata": {
  "anaconda-cloud": {},
  "kernelspec": {
   "display_name": "Python [conda env:tensorflow]",
   "language": "python",
   "name": "conda-env-tensorflow-py"
  },
  "language_info": {
   "codemirror_mode": {
    "name": "ipython",
    "version": 3
   },
   "file_extension": ".py",
   "mimetype": "text/x-python",
   "name": "python",
   "nbconvert_exporter": "python",
   "pygments_lexer": "ipython3",
   "version": "3.5.2"
  }
 },
 "nbformat": 4,
 "nbformat_minor": 1
}
