{
 "cells": [
  {
   "cell_type": "markdown",
   "metadata": {},
   "source": [
    "# Debugging Faster R-CNN Networks"
   ]
  },
  {
   "cell_type": "markdown",
   "metadata": {},
   "source": [
    "## Imports"
   ]
  },
  {
   "cell_type": "code",
   "execution_count": 1,
   "metadata": {
    "collapsed": true
   },
   "outputs": [],
   "source": [
    "import sys\n",
    "sys.path.append('../')\n",
    "\n",
    "import numpy as np\n",
    "import tensorflow as tf"
   ]
  },
  {
   "cell_type": "markdown",
   "metadata": {},
   "source": [
    "## Check Cythonized modules working"
   ]
  },
  {
   "cell_type": "markdown",
   "metadata": {},
   "source": [
    "#### bbox_overlaps"
   ]
  },
  {
   "cell_type": "code",
   "execution_count": 2,
   "metadata": {
    "collapsed": true
   },
   "outputs": [],
   "source": [
    "from Lib.bbox_overlaps import bbox_overlaps"
   ]
  },
  {
   "cell_type": "code",
   "execution_count": 3,
   "metadata": {
    "collapsed": true
   },
   "outputs": [],
   "source": [
    "boxes = np.array([[1,3,2,4],\n",
    "                  [2,5,1,8],\n",
    "                  [3,4,9,9],\n",
    "                  [1,9,7,11]],dtype=np.float)"
   ]
  },
  {
   "cell_type": "code",
   "execution_count": 4,
   "metadata": {
    "collapsed": false
   },
   "outputs": [],
   "source": [
    "query_boxes = np.array([[1,3,2,4],\n",
    "                  [5,3,7,4],\n",
    "                  [1,8,10,12],\n",
    "                  [0,2,3,5],\n",
    "                  [0,3,2,9],\n",
    "                  [2,1,3,4]],dtype=np.float)"
   ]
  },
  {
   "cell_type": "code",
   "execution_count": 5,
   "metadata": {
    "collapsed": false,
    "scrolled": true
   },
   "outputs": [
    {
     "data": {
      "text/plain": [
       "array([[ 1.        ,  0.        ,  0.        ,  0.25      ,  0.19047619,\n",
       "         0.2       ],\n",
       "       [ 0.        ,  0.        ,  0.        ,  0.        ,  0.        ,\n",
       "         0.        ],\n",
       "       [ 0.        ,  0.06666667,  0.17948718,  0.03571429,  0.        ,\n",
       "         0.02040816],\n",
       "       [ 0.        ,  0.        ,  0.42      ,  0.        ,  0.05      ,\n",
       "         0.        ]])"
      ]
     },
     "execution_count": 5,
     "metadata": {},
     "output_type": "execute_result"
    }
   ],
   "source": [
    "bbox_overlaps(boxes,query_boxes)"
   ]
  },
  {
   "cell_type": "markdown",
   "metadata": {},
   "source": [
    "#### nms"
   ]
  },
  {
   "cell_type": "code",
   "execution_count": 6,
   "metadata": {
    "collapsed": true
   },
   "outputs": [],
   "source": [
    "from Lib.nms_wrapper import nms"
   ]
  },
  {
   "cell_type": "code",
   "execution_count": 7,
   "metadata": {
    "collapsed": false
   },
   "outputs": [],
   "source": [
    "proposals = 10*np.array([[2,1,12,21,0],\n",
    "                     [10,5,14,18,.1],\n",
    "                     [5,3,11,14,.2],\n",
    "                     [1,4,20,20,.3]],dtype=np.float32)\n",
    "copies = np.random.choice(4,256,p=[0.1,0.2,0.3,0.4])\n",
    "proposals = proposals[copies,:]\n",
    "perturbations = np.random.randint(8,size=(256,4))\n",
    "perturbations = np.concatenate((perturbations,np.zeros([256,1])),1)\n",
    "proposals = np.array(proposals + perturbations,dtype=np.float32)"
   ]
  },
  {
   "cell_type": "code",
   "execution_count": 8,
   "metadata": {
    "collapsed": false
   },
   "outputs": [
    {
     "data": {
      "text/plain": [
       "array([[  14.,   44.,  205.,  205.,    3.],\n",
       "       [  54.,   36.,  110.,  146.,    2.],\n",
       "       [ 102.,   51.,  142.,  184.,    1.],\n",
       "       [  24.,   11.,  121.,  214.,    0.]], dtype=float32)"
      ]
     },
     "execution_count": 8,
     "metadata": {},
     "output_type": "execute_result"
    }
   ],
   "source": [
    "keep = nms(proposals,0.7)\n",
    "proposals[keep,:]"
   ]
  },
  {
   "cell_type": "markdown",
   "metadata": {},
   "source": [
    "## Test fast_rcnn"
   ]
  },
  {
   "cell_type": "code",
   "execution_count": 9,
   "metadata": {
    "collapsed": true
   },
   "outputs": [],
   "source": [
    "from Networks.convnet import convnet\n",
    "from Networks.faster_rcnn_networks import rpn, roi_proposal, fast_rcnn"
   ]
  },
  {
   "cell_type": "code",
   "execution_count": 10,
   "metadata": {
    "collapsed": true
   },
   "outputs": [],
   "source": [
    "# Global Dictionary of Flags\n",
    "flags = {\n",
    "    'data_directory': '../Data/MNIST/',\n",
    "    'save_directory': '../Logs/summaries/',\n",
    "    'model_directory': 'resnet101/',\n",
    "    'restore': False,\n",
    "    'restore_file': 'start.ckpt',\n",
    "    'datasets': 'MNIST',\n",
    "    'image_dim': 28,\n",
    "    'hidden_size': 10,\n",
    "    'num_classes': 10,\n",
    "    'batch_size': 1,\n",
    "    'display_step': 200,\n",
    "    'weight_decay': 1e-7,\n",
    "    'lr_decay': 0.999,\n",
    "    'num_epochs': 10,\n",
    "    'lr_iters': [(5e-3, 5000), (5e-3, 7500), (5e-4, 10000), (5e-5, 10000)],\n",
    "    'anchor_scales': [1,2,4]\n",
    "}\n",
    "eval_mode = False"
   ]
  },
  {
   "cell_type": "markdown",
   "metadata": {},
   "source": [
    "#### Set up inputs"
   ]
  },
  {
   "cell_type": "code",
   "execution_count": 11,
   "metadata": {
    "collapsed": false
   },
   "outputs": [],
   "source": [
    "x = tf.placeholder(tf.float32, [1, 128, 128, 3], name='x')\n",
    "gt_boxes = tf.placeholder(tf.int64, [1, 5], name='gt')\n",
    "im_dims = tf.placeholder(tf.int64, [1, 2], name='im_dims')"
   ]
  },
  {
   "cell_type": "markdown",
   "metadata": {},
   "source": [
    "#### Convolutional Feature Extractor"
   ]
  },
  {
   "cell_type": "code",
   "execution_count": 12,
   "metadata": {
    "collapsed": false
   },
   "outputs": [
    {
     "name": "stdout",
     "output_type": "stream",
     "text": [
      "conv_1 output: (1, 64, 64, 64)\n",
      "conv_2 output: (1, 32, 32, 96)\n",
      "conv_3 output: (1, 16, 16, 128)\n",
      "conv_4 output: (1, 8, 8, 172)\n",
      "conv_5 output: (1, 4, 4, 256)\n"
     ]
    }
   ],
   "source": [
    "cnn = convnet(x, [5, 3, 3, 3, 3], [64, 96, 128, 172, 256], strides=[2, 2, 2, 2, 2])\n",
    "featureMaps = cnn.get_output()\n",
    "_feat_stride = cnn.get_feat_stride()"
   ]
  },
  {
   "cell_type": "markdown",
   "metadata": {},
   "source": [
    "#### RPN"
   ]
  },
  {
   "cell_type": "code",
   "execution_count": 13,
   "metadata": {
    "collapsed": false
   },
   "outputs": [
    {
     "name": "stdout",
     "output_type": "stream",
     "text": [
      "conv_1 output: (1, 4, 4, 512)\n",
      "conv_1 output: (1, 4, 4, 18)\n",
      "conv_1 output: (1, 4, 4, 36)\n"
     ]
    }
   ],
   "source": [
    "rpn_net = rpn(featureMaps,gt_boxes,im_dims,_feat_stride,eval_mode,flags)"
   ]
  },
  {
   "cell_type": "code",
   "execution_count": 14,
   "metadata": {
    "collapsed": false
   },
   "outputs": [
    {
     "data": {
      "text/plain": [
       "TensorShape([Dimension(1), Dimension(4), Dimension(4), Dimension(18)])"
      ]
     },
     "execution_count": 14,
     "metadata": {},
     "output_type": "execute_result"
    }
   ],
   "source": [
    "rpn_cls_score = rpn_net.get_rpn_cls_score()\n",
    "rpn_cls_score.get_shape()"
   ]
  },
  {
   "cell_type": "code",
   "execution_count": 15,
   "metadata": {
    "collapsed": false
   },
   "outputs": [
    {
     "data": {
      "text/plain": [
       "TensorShape(None)"
      ]
     },
     "execution_count": 15,
     "metadata": {},
     "output_type": "execute_result"
    }
   ],
   "source": [
    "rpn_labels = rpn_net.get_rpn_labels()\n",
    "rpn_labels.get_shape()"
   ]
  },
  {
   "cell_type": "code",
   "execution_count": 16,
   "metadata": {
    "collapsed": false
   },
   "outputs": [
    {
     "data": {
      "text/plain": [
       "TensorShape([Dimension(1), Dimension(4), Dimension(4), Dimension(36)])"
      ]
     },
     "execution_count": 16,
     "metadata": {},
     "output_type": "execute_result"
    }
   ],
   "source": [
    "rpn_bbox_pred = rpn_net.get_rpn_bbox_pred()\n",
    "rpn_bbox_pred.get_shape()"
   ]
  },
  {
   "cell_type": "code",
   "execution_count": 17,
   "metadata": {
    "collapsed": false
   },
   "outputs": [
    {
     "data": {
      "text/plain": [
       "TensorShape(None)"
      ]
     },
     "execution_count": 17,
     "metadata": {},
     "output_type": "execute_result"
    }
   ],
   "source": [
    "rpn_bbox_targets = rpn_net.get_rpn_bbox_targets()\n",
    "rpn_bbox_targets.get_shape()"
   ]
  },
  {
   "cell_type": "code",
   "execution_count": 18,
   "metadata": {
    "collapsed": false
   },
   "outputs": [
    {
     "data": {
      "text/plain": [
       "TensorShape(None)"
      ]
     },
     "execution_count": 18,
     "metadata": {},
     "output_type": "execute_result"
    }
   ],
   "source": [
    "rpn_bbox_outside_weights = rpn_net.get_rpn_bbox_outside_weights()\n",
    "rpn_bbox_outside_weights.get_shape()"
   ]
  },
  {
   "cell_type": "markdown",
   "metadata": {},
   "source": [
    "#### ROI Proposal"
   ]
  },
  {
   "cell_type": "code",
   "execution_count": 19,
   "metadata": {
    "collapsed": false
   },
   "outputs": [],
   "source": [
    "rpn_cls_score = rpn_net.get_rpn_cls_score()\n",
    "rpn_bbox_pred = rpn_net.get_rpn_bbox_pred()\n",
    "roi_proposal_net = roi_proposal(rpn_net, gt_boxes, im_dims, eval_mode, flags)"
   ]
  },
  {
   "cell_type": "code",
   "execution_count": 20,
   "metadata": {
    "collapsed": false
   },
   "outputs": [
    {
     "data": {
      "text/plain": [
       "TensorShape([Dimension(None), Dimension(5)])"
      ]
     },
     "execution_count": 20,
     "metadata": {},
     "output_type": "execute_result"
    }
   ],
   "source": [
    "roi_proposal_net.get_rois().get_shape()"
   ]
  },
  {
   "cell_type": "code",
   "execution_count": 21,
   "metadata": {
    "collapsed": false
   },
   "outputs": [
    {
     "data": {
      "text/plain": [
       "TensorShape(None)"
      ]
     },
     "execution_count": 21,
     "metadata": {},
     "output_type": "execute_result"
    }
   ],
   "source": [
    "roi_proposal_net.get_labels().get_shape()"
   ]
  },
  {
   "cell_type": "code",
   "execution_count": 22,
   "metadata": {
    "collapsed": false
   },
   "outputs": [
    {
     "data": {
      "text/plain": [
       "TensorShape(None)"
      ]
     },
     "execution_count": 22,
     "metadata": {},
     "output_type": "execute_result"
    }
   ],
   "source": [
    "roi_proposal_net.get_bbox_targets().get_shape()"
   ]
  },
  {
   "cell_type": "markdown",
   "metadata": {},
   "source": [
    "#### Fast RCNN"
   ]
  },
  {
   "cell_type": "code",
   "execution_count": 23,
   "metadata": {
    "collapsed": false
   },
   "outputs": [
    {
     "name": "stdout",
     "output_type": "stream",
     "text": [
      "flat_1 output: (?, 12544)\n",
      "fc_1 output: (?, 4096)\n",
      "fc_2 output: (?, 4096)\n",
      "fc_1 output: (?, 10)\n",
      "fc_1 output: (?, 40)\n"
     ]
    }
   ],
   "source": [
    "fast_rcnn_net = fast_rcnn(featureMaps, roi_proposal_net, eval_mode)"
   ]
  },
  {
   "cell_type": "code",
   "execution_count": 24,
   "metadata": {
    "collapsed": false
   },
   "outputs": [
    {
     "data": {
      "text/plain": [
       "TensorShape([Dimension(None), Dimension(10)])"
      ]
     },
     "execution_count": 24,
     "metadata": {},
     "output_type": "execute_result"
    }
   ],
   "source": [
    "fast_rcnn_net.get_cls_score().get_shape()"
   ]
  },
  {
   "cell_type": "code",
   "execution_count": 25,
   "metadata": {
    "collapsed": false
   },
   "outputs": [
    {
     "data": {
      "text/plain": [
       "TensorShape([Dimension(None), Dimension(40)])"
      ]
     },
     "execution_count": 25,
     "metadata": {},
     "output_type": "execute_result"
    }
   ],
   "source": [
    "fast_rcnn_net.get_bbox_refinement().get_shape()"
   ]
  },
  {
   "cell_type": "markdown",
   "metadata": {},
   "source": [
    "#### Feed dummy values through net"
   ]
  },
  {
   "cell_type": "code",
   "execution_count": 26,
   "metadata": {
    "collapsed": false
   },
   "outputs": [],
   "source": [
    "# Prevent TensorFlow from completely hogging up all GPUs\n",
    "config = tf.ConfigProto(log_device_placement=False)\n",
    "config.gpu_options.per_process_gpu_memory_fraction=0.2\n",
    "sess = tf.InteractiveSession(config=config)"
   ]
  },
  {
   "cell_type": "code",
   "execution_count": 27,
   "metadata": {
    "collapsed": false
   },
   "outputs": [],
   "source": [
    "x_in = np.random.randint(256,size=[1, 128, 128, 3])\n",
    "gt_in = np.array([1,4,16,20,3]).reshape([1,5])\n",
    "im_dims_in = np.array([128]*1*2).reshape([1,2])"
   ]
  },
  {
   "cell_type": "code",
   "execution_count": 28,
   "metadata": {
    "collapsed": false
   },
   "outputs": [],
   "source": [
    "sess.run(tf.global_variables_initializer())\n",
    "#sess.run(rpn_bbox_targets,feed_dict={x: x_in, gt: gt_in, im_dims: im_dims_in})"
   ]
  },
  {
   "cell_type": "markdown",
   "metadata": {},
   "source": [
    "## Test ROI pooling layer"
   ]
  },
  {
   "cell_type": "code",
   "execution_count": 29,
   "metadata": {
    "collapsed": true
   },
   "outputs": [],
   "source": [
    "import tensorflow as tf\n",
    "from scipy.misc import imread\n",
    "import matplotlib.pyplot as plt"
   ]
  },
  {
   "cell_type": "code",
   "execution_count": 53,
   "metadata": {
    "collapsed": true
   },
   "outputs": [],
   "source": [
    "def roi_pool(featureMaps,rois,im_dims):    \n",
    "    '''\n",
    "    Regions of Interest (ROIs) from the Region Proposal Network (RPN) are \n",
    "    formatted as:\n",
    "    (image_id, x1, y1, x2, y2)\n",
    "    \n",
    "    Note: Since mini-batches are sampled from a single image, image_id = 0s\n",
    "    '''\n",
    "    # Image that the ROI is taken from (minibatch of 1 means these will all be 0)\n",
    "    box_ind = tf.cast(rois[:,0],dtype=tf.int32)\n",
    "    \n",
    "    # ROI box coordinates. Must be normalized and ordered to [y1, x1, y2, x2]\n",
    "    boxes = rois[:,1:]\n",
    "    normalization = tf.cast(tf.pack([im_dims[:,1],im_dims[:,0],im_dims[:,1],im_dims[:,0]],axis=1),dtype=tf.float32)\n",
    "    boxes = tf.div(boxes,normalization)\n",
    "    boxes = tf.pack([boxes[:,0],boxes[:,1],boxes[:,2],boxes[:,3]],axis=1)\n",
    "    \n",
    "    # ROI pool output size\n",
    "    crop_size = tf.constant([14,14])\n",
    "    \n",
    "    # ROI pool\n",
    "    pooledFeatures = tf.image.crop_and_resize(image=featureMaps, boxes=boxes, box_ind=box_ind, crop_size=crop_size)\n",
    "    \n",
    "    # Max pool to (7x7)\n",
    "    pooledFeatures = tf.nn.max_pool(pooledFeatures, ksize=[1, 2, 2, 1], strides=[1, 2, 2, 1], padding='SAME')\n",
    "\n",
    "    return pooledFeatures"
   ]
  },
  {
   "cell_type": "code",
   "execution_count": 54,
   "metadata": {
    "collapsed": false
   },
   "outputs": [],
   "source": [
    "# Set up tensorflow graph\n",
    "featMap_tf = tf.placeholder(tf.float32, [None, 128, 128, 1])\n",
    "roi_tf = tf.placeholder(tf.float32, [None, 5])\n",
    "im_dims_tf = tf.placeholder(tf.int32, [None, 2])      \n",
    "\n",
    "pooledFeatures = roi_pool(featMap_tf,roi_tf,im_dims_tf)"
   ]
  },
  {
   "cell_type": "code",
   "execution_count": 49,
   "metadata": {
    "collapsed": false
   },
   "outputs": [
    {
     "data": {
      "image/png": "[encoded data removed]",
      "text/plain": [
       "<matplotlib.figure.Figure at 0x7f658c1120f0>"
      ]
     },
     "metadata": {},
     "output_type": "display_data"
    },
    {
     "name": "stdout",
     "output_type": "stream",
     "text": [
      "[[128 128]]\n"
     ]
    }
   ],
   "source": [
    "imfile = '../Data/data_clutter/Test/Images/img13.png'\n",
    "img = imread(imfile)\n",
    "im_dims = np.array(img.shape)\n",
    "im_dims = im_dims.reshape((-1,2))\n",
    "plt.imshow(img)\n",
    "plt.show()\n",
    "print(im_dims)"
   ]
  },
  {
   "cell_type": "code",
   "execution_count": 50,
   "metadata": {
    "collapsed": false
   },
   "outputs": [
    {
     "data": {
      "text/plain": [
       "array([[   0.,   90.,   33.,  134.,   66.]])"
      ]
     },
     "execution_count": 50,
     "metadata": {},
     "output_type": "execute_result"
    }
   ],
   "source": [
    "gt = np.loadtxt('../Data/data_clutter/Test/Annotations/img13.txt', ndmin=2)\n",
    "gt_box = gt[:,:4]\n",
    "\n",
    "roi = np.concatenate(([[0]],gt_box),axis=1)\n",
    "roi"
   ]
  },
  {
   "cell_type": "code",
   "execution_count": 55,
   "metadata": {
    "collapsed": false
   },
   "outputs": [
    {
     "data": {
      "image/png": "[encoded data removed]",
      "text/plain": [
       "<matplotlib.figure.Figure at 0x7f657c8acba8>"
      ]
     },
     "metadata": {},
     "output_type": "display_data"
    },
    {
     "name": "stdout",
     "output_type": "stream",
     "text": [
      "(1, 128, 128, 1)\n"
     ]
    }
   ],
   "source": [
    "# This would be a really dumb output for a CNN, \n",
    "# but for testing purposes, it'll do\n",
    "featureMaps = img[::1,::1]\n",
    "plt.imshow(featureMaps)\n",
    "plt.show()\n",
    "featureMaps = featureMaps.reshape((1,featureMaps.shape[0],featureMaps.shape[1],1))\n",
    "print(featureMaps.shape)"
   ]
  },
  {
   "cell_type": "code",
   "execution_count": 56,
   "metadata": {
    "collapsed": false
   },
   "outputs": [
    {
     "data": {
      "image/png": "[encoded data removed]",
      "text/plain": [
       "<matplotlib.figure.Figure at 0x7f658c0b27b8>"
      ]
     },
     "metadata": {},
     "output_type": "display_data"
    },
    {
     "name": "stdout",
     "output_type": "stream",
     "text": [
      "(7, 7)\n",
      "[[ 232.15  238.1    27.     34.64   28.71   31.19   27.68]\n",
      " [  27.     27.     29.59  235.34  228.31  253.3   248.27]\n",
      " [  27.     27.76  204.17  237.55   28.54   27.6   242.38]\n",
      " [  27.     29.49  224.38  227.     29.57   27.75  245.38]\n",
      " [  27.     27.     28.06  214.89   90.39  224.48  154.63]\n",
      " [  27.     27.     27.     27.     27.     27.     27.  ]\n",
      " [   0.      0.      0.      0.      0.      0.      0.  ]]\n"
     ]
    }
   ],
   "source": [
    "# Run the graph and pray\n",
    "out = sess.run(pooledFeatures, feed_dict={featMap_tf: featureMaps, roi_tf: roi, im_dims_tf: im_dims})\n",
    "im_out = np.squeeze(out)\n",
    "plt.imshow(im_out)\n",
    "plt.show()\n",
    "print(im_out.shape)\n",
    "np.set_printoptions(precision=2)\n",
    "print(im_out)"
   ]
  }
 ],
 "metadata": {
  "anaconda-cloud": {},
  "kernelspec": {
   "display_name": "Python [conda env:tensorflow]",
   "language": "python",
   "name": "conda-env-tensorflow-py"
  },
  "language_info": {
   "codemirror_mode": {
    "name": "ipython",
    "version": 3
   },
   "file_extension": ".py",
   "mimetype": "text/x-python",
   "name": "python",
   "nbconvert_exporter": "python",
   "pygments_lexer": "ipython3",
   "version": "3.5.2"
  }
 },
 "nbformat": 4,
 "nbformat_minor": 1
}
